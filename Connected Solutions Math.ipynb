{
 "cells": [
  {
   "cell_type": "markdown",
   "id": "6194c890",
   "metadata": {},
   "source": [
    "Connected Solutions Math\n",
    "=====================\n",
    "\n",
    "Patrick Wagstrom &lt;160672+pridkett@users.noreply.github.com&gt;\n",
    "\n",
    "June 2023\n",
    "\n",
    "This is a really simple down and dirty notebook that I used to do the math in [my Weblog post about how much I get paid per kWh for electricity through Eversource's battery demand response program](https://patrick.wagstrom.net/weblog/2023/06/23/powerwall-and-battery-demand-response/)."
   ]
  },
  {
   "cell_type": "code",
   "execution_count": 1,
   "id": "52df7166",
   "metadata": {},
   "outputs": [],
   "source": [
    "import pandas as pd\n",
    "import requests\n",
    "from io import StringIO\n",
    "import time"
   ]
  },
  {
   "cell_type": "code",
   "execution_count": 2,
   "id": "e40115ef",
   "metadata": {},
   "outputs": [
    {
     "name": "stdout",
     "output_type": "stream",
     "text": [
      "9900 rows fetched in 0.91 seconds\n"
     ]
    }
   ],
   "source": [
    "start_time = time.time()\n",
    "\n",
    "paycheck_amount = 1889.42\n",
    "\n",
    "start_date = '2022-06-01T04:00:00Z'\n",
    "stop_date = '2022-10-01T04:00:00Z'\n",
    "\n",
    "time_grouping = '1h'\n",
    "timezone = 'America/New_York'\n",
    "\n",
    "\"\"\"select * from system where temperature = 0 and time > '2023-05-01T00:00:00Z' order by time asc limit 100;\"\"\"\n",
    "\n",
    "influxdb_url = 'http://[YOURINFULXDBSERVER]:8086/query'\n",
    "\n",
    "params = {\n",
    "    'db': 'powerwall',\n",
    "    'q': f\"\"\"SELECT integral(\"to_grid\") / 1000 / 3600 as \"kWh\" FROM \"autogen\".\"http\" WHERE time > '{start_date}' and time < '{stop_date}' GROUP BY time({time_grouping}) tz('{ timezone }')\"\"\",\n",
    "    'epoch': 's'\n",
    "}\n",
    "\n",
    "headers = {\n",
    "    'Accept': 'application/csv',\n",
    "}\n",
    "\n",
    "# Make the GET request\n",
    "response = requests.get(influxdb_url, params=params, headers=headers)\n",
    "\n",
    "# Make sure the request was successful\n",
    "response.raise_for_status()\n",
    "\n",
    "# Get the data as a CSV string\n",
    "data = response.text\n",
    "\n",
    "# Convert to a DataFrame\n",
    "df = pd.read_csv(StringIO(data))\n",
    "\n",
    "finish_time = time.time()\n",
    "print(f\"{df.size} rows fetched in {finish_time-start_time:.2f} seconds\")"
   ]
  },
  {
   "cell_type": "code",
   "execution_count": 3,
   "id": "ca40ab0c",
   "metadata": {},
   "outputs": [],
   "source": [
    "df = df.drop([\"name\", \"tags\"], axis=1)\n",
    "df['time'] = pd.to_datetime(df['time'], unit='s', utc=True)\n",
    "df['time'] = df['time'].dt.tz_convert('America/New_York')"
   ]
  },
  {
   "cell_type": "code",
   "execution_count": 4,
   "id": "8f7be3b6",
   "metadata": {},
   "outputs": [
    {
     "data": {
      "text/html": [
       "<div>\n",
       "<style scoped>\n",
       "    .dataframe tbody tr th:only-of-type {\n",
       "        vertical-align: middle;\n",
       "    }\n",
       "\n",
       "    .dataframe tbody tr th {\n",
       "        vertical-align: top;\n",
       "    }\n",
       "\n",
       "    .dataframe thead th {\n",
       "        text-align: right;\n",
       "    }\n",
       "</style>\n",
       "<table border=\"1\" class=\"dataframe\">\n",
       "  <thead>\n",
       "    <tr style=\"text-align: right;\">\n",
       "      <th></th>\n",
       "      <th>time</th>\n",
       "      <th>kWh</th>\n",
       "    </tr>\n",
       "  </thead>\n",
       "  <tbody>\n",
       "    <tr>\n",
       "      <th>405</th>\n",
       "      <td>2022-07-06 17:00:00-04:00</td>\n",
       "      <td>18.290685</td>\n",
       "    </tr>\n",
       "    <tr>\n",
       "      <th>406</th>\n",
       "      <td>2022-07-06 18:00:00-04:00</td>\n",
       "      <td>17.100467</td>\n",
       "    </tr>\n",
       "    <tr>\n",
       "      <th>453</th>\n",
       "      <td>2022-07-08 17:00:00-04:00</td>\n",
       "      <td>15.295984</td>\n",
       "    </tr>\n",
       "    <tr>\n",
       "      <th>454</th>\n",
       "      <td>2022-07-08 18:00:00-04:00</td>\n",
       "      <td>15.170017</td>\n",
       "    </tr>\n",
       "    <tr>\n",
       "      <th>525</th>\n",
       "      <td>2022-07-11 17:00:00-04:00</td>\n",
       "      <td>17.961609</td>\n",
       "    </tr>\n",
       "    <tr>\n",
       "      <th>...</th>\n",
       "      <td>...</td>\n",
       "      <td>...</td>\n",
       "    </tr>\n",
       "    <tr>\n",
       "      <th>1700</th>\n",
       "      <td>2022-08-29 17:00:00-04:00</td>\n",
       "      <td>13.589776</td>\n",
       "    </tr>\n",
       "    <tr>\n",
       "      <th>1701</th>\n",
       "      <td>2022-08-29 18:00:00-04:00</td>\n",
       "      <td>12.101548</td>\n",
       "    </tr>\n",
       "    <tr>\n",
       "      <th>1723</th>\n",
       "      <td>2022-08-30 16:00:00-04:00</td>\n",
       "      <td>14.224240</td>\n",
       "    </tr>\n",
       "    <tr>\n",
       "      <th>1724</th>\n",
       "      <td>2022-08-30 17:00:00-04:00</td>\n",
       "      <td>5.672601</td>\n",
       "    </tr>\n",
       "    <tr>\n",
       "      <th>1747</th>\n",
       "      <td>2022-08-31 16:00:00-04:00</td>\n",
       "      <td>16.714606</td>\n",
       "    </tr>\n",
       "  </tbody>\n",
       "</table>\n",
       "<p>77 rows × 2 columns</p>\n",
       "</div>"
      ],
      "text/plain": [
       "                          time        kWh\n",
       "405  2022-07-06 17:00:00-04:00  18.290685\n",
       "406  2022-07-06 18:00:00-04:00  17.100467\n",
       "453  2022-07-08 17:00:00-04:00  15.295984\n",
       "454  2022-07-08 18:00:00-04:00  15.170017\n",
       "525  2022-07-11 17:00:00-04:00  17.961609\n",
       "...                        ...        ...\n",
       "1700 2022-08-29 17:00:00-04:00  13.589776\n",
       "1701 2022-08-29 18:00:00-04:00  12.101548\n",
       "1723 2022-08-30 16:00:00-04:00  14.224240\n",
       "1724 2022-08-30 17:00:00-04:00   5.672601\n",
       "1747 2022-08-31 16:00:00-04:00  16.714606\n",
       "\n",
       "[77 rows x 2 columns]"
      ]
     },
     "execution_count": 4,
     "metadata": {},
     "output_type": "execute_result"
    }
   ],
   "source": [
    "filtered_df = df[(df['time'].dt.hour >= 14) & (df['time'].dt.hour <= 19)]\n",
    "filtered_df = filtered_df[filtered_df['kWh'] > 5]\n",
    "filtered_df"
   ]
  },
  {
   "cell_type": "code",
   "execution_count": 5,
   "id": "8a50f68f",
   "metadata": {},
   "outputs": [
    {
     "name": "stdout",
     "output_type": "stream",
     "text": [
      "Total kWh: 1029 at $1.84/kWh\n",
      "Total Events: 41 at $46.08/event and 25.11kWh/Event\n"
     ]
    }
   ],
   "source": [
    "unique_days = filtered_df['time'].dt.date.nunique()\n",
    "kWh_sum = filtered_df['kWh'].sum()\n",
    "price_kWh = paycheck_amount / kWh_sum\n",
    "print(f\"\"\"Total kWh: { int(kWh_sum) } at ${price_kWh:.2f}/kWh\"\"\")\n",
    "price_event = paycheck_amount / unique_days\n",
    "kWh_event = kWh_sum / unique_days\n",
    "print(f\"\"\"Total Events: { unique_days} at ${price_event:.2f}/event and {kWh_event:.2f}kWh/Event\"\"\")"
   ]
  },
  {
   "cell_type": "code",
   "execution_count": null,
   "id": "47a572ea",
   "metadata": {},
   "outputs": [],
   "source": []
  }
 ],
 "metadata": {
  "kernelspec": {
   "display_name": "Python 3 (ipykernel)",
   "language": "python",
   "name": "python3"
  },
  "language_info": {
   "codemirror_mode": {
    "name": "ipython",
    "version": 3
   },
   "file_extension": ".py",
   "mimetype": "text/x-python",
   "name": "python",
   "nbconvert_exporter": "python",
   "pygments_lexer": "ipython3",
   "version": "3.11.0"
  }
 },
 "nbformat": 4,
 "nbformat_minor": 5
}
